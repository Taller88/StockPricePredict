{
  "nbformat": 4,
  "nbformat_minor": 0,
  "metadata": {
    "colab": {
      "name": "SamsungStockPrice.ipynb",
      "provenance": [],
      "authorship_tag": "ABX9TyNrH1eDhHbGAz4sKSRizQTT",
      "include_colab_link": true
    },
    "kernelspec": {
      "name": "python3",
      "display_name": "Python 3"
    }
  },
  "cells": [
    {
      "cell_type": "markdown",
      "metadata": {
        "id": "view-in-github",
        "colab_type": "text"
      },
      "source": [
        "<a href=\"https://colab.research.google.com/github/Taller88/StockPricePredict/blob/master/SamsungStockPrice.ipynb\" target=\"_parent\"><img src=\"https://colab.research.google.com/assets/colab-badge.svg\" alt=\"Open In Colab\"/></a>"
      ]
    },
    {
      "cell_type": "code",
      "metadata": {
        "id": "exDbtscYY5zs",
        "colab_type": "code",
        "colab": {
          "resources": {
            "http://localhost:8080/nbextensions/google.colab/files.js": {
              "data": "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",
              "ok": true,
              "headers": [
                [
                  "content-type",
                  "application/javascript"
                ]
              ],
              "status": 200,
              "status_text": ""
            }
          },
          "base_uri": "https://localhost:8080/",
          "height": 94
        },
        "outputId": "e9167906-9753-41d0-de89-b6e47f86fe2e"
      },
      "source": [
        "from google.colab import files\n",
        "uploaded=files.upload()#파일업로드 기능 실행\n",
        "\n",
        "for fn in uploaded.keys():\n",
        "    print('User uploaded file \"{name}\" with length {length}bytes'.format(name=fn, length=len(uploaded[fn])))"
      ],
      "execution_count": null,
      "outputs": [
        {
          "output_type": "display_data",
          "data": {
            "text/html": [
              "\n",
              "     <input type=\"file\" id=\"files-e52034c3-ccd4-4f40-bcfb-23ab1ea0367c\" name=\"files[]\" multiple disabled\n",
              "        style=\"border:none\" />\n",
              "     <output id=\"result-e52034c3-ccd4-4f40-bcfb-23ab1ea0367c\">\n",
              "      Upload widget is only available when the cell has been executed in the\n",
              "      current browser session. Please rerun this cell to enable.\n",
              "      </output>\n",
              "      <script src=\"/nbextensions/google.colab/files.js\"></script> "
            ],
            "text/plain": [
              "<IPython.core.display.HTML object>"
            ]
          },
          "metadata": {
            "tags": []
          }
        },
        {
          "output_type": "stream",
          "text": [
            "Saving samsung.csv to samsung (1).csv\n",
            "User uploaded file \"samsung.csv\" with length 360318bytes\n"
          ],
          "name": "stdout"
        }
      ]
    },
    {
      "cell_type": "code",
      "metadata": {
        "id": "ww5vrUaIa_mE",
        "colab_type": "code",
        "colab": {}
      },
      "source": [
        "import pandas as pd \n",
        "import io\n",
        "\n",
        "df_price=pd.read_csv(io.StringIO(uploaded['samsung.csv'].decode('utf-8')))"
      ],
      "execution_count": null,
      "outputs": []
    },
    {
      "cell_type": "code",
      "metadata": {
        "id": "QVxgCJgLdOru",
        "colab_type": "code",
        "colab": {}
      },
      "source": [
        "model_path=os.path.abspath(uploaded['samsung.csv'])"
      ],
      "execution_count": null,
      "outputs": []
    },
    {
      "cell_type": "code",
      "metadata": {
        "id": "AEswXo6AbQL9",
        "colab_type": "code",
        "colab": {
          "base_uri": "https://localhost:8080/",
          "height": 269
        },
        "outputId": "b73a752f-cb3b-48cb-ae41-17420a7c743a"
      },
      "source": [
        "print(df_price)"
      ],
      "execution_count": null,
      "outputs": [
        {
          "output_type": "stream",
          "text": [
            "            일자     시가     고가     저가     종가       거래량\n",
            "0     20200107  55700  56400  55600  55800   9893846\n",
            "1     20200106  54900  55600  54600  55500  10278951\n",
            "2     20200103  56000  56600  54900  55500  15422255\n",
            "3     20200102  55500  56000  55000  55200  12993228\n",
            "4     20191230  56200  56600  55700  55800   8356767\n",
            "...        ...    ...    ...    ...    ...       ...\n",
            "9283  19850109    126    126    122    123    324836\n",
            "9284  19850108    129    129    127    127    845098\n",
            "9285  19850107    129    130    128    129    771895\n",
            "9286  19850105    129    129    128    128    108496\n",
            "9287  19850104    130    130    129    129    111764\n",
            "\n",
            "[9288 rows x 6 columns]\n"
          ],
          "name": "stdout"
        }
      ]
    },
    {
      "cell_type": "code",
      "metadata": {
        "id": "eIvOBtdzbUix",
        "colab_type": "code",
        "colab": {}
      },
      "source": [
        "pd.to_datetime(df_price['일자'], format='%Y%m%d')\n",
        "# 0      2020-01-07\n",
        "# 1      2020-01-06\n",
        "# 2      2020-01-03\n",
        "# 3      2020-01-02\n",
        "# 4      2019-12-30\n",
        "\n",
        "df_price['일자'] = pd.to_datetime(df_price['일자'], format='%Y%m%d')\n",
        "df_price['연도'] =df_price['일자'].dt.year\n",
        "df_price['월'] =df_price['일자'].dt.month\n",
        "df_price['일'] =df_price['일자'].dt.day"
      ],
      "execution_count": null,
      "outputs": []
    },
    {
      "cell_type": "code",
      "metadata": {
        "id": "3nLndYxfbVfb",
        "colab_type": "code",
        "colab": {
          "base_uri": "https://localhost:8080/",
          "height": 287
        },
        "outputId": "b4bd3945-3e22-4ea4-e878-705fa8356a44"
      },
      "source": [
        "from sklearn.preprocessing import MinMaxScaler\n",
        "\n",
        "scaler = MinMaxScaler()\n",
        "scale_cols = ['시가', '고가', '저가', '종가', '거래량']\n",
        "df_scaled = scaler.fit_transform(df_price[scale_cols])\n",
        "\n",
        "df_scaled = pd.DataFrame(df_scaled)\n",
        "df_scaled.columns = scale_cols\n",
        "\n",
        "print(df_scaled)\n",
        "print(len(df_scaled))"
      ],
      "execution_count": null,
      "outputs": [
        {
          "output_type": "stream",
          "text": [
            "            시가        고가        저가        종가       거래량\n",
            "0     0.968632  0.980489  0.979522  0.975133  0.030291\n",
            "1     0.954691  0.966553  0.961868  0.969880  0.031470\n",
            "2     0.973860  0.983973  0.967164  0.969880  0.047217\n",
            "3     0.965147  0.973521  0.968929  0.964626  0.039781\n",
            "4     0.977346  0.983973  0.981287  0.975133  0.025585\n",
            "...        ...       ...       ...       ...       ...\n",
            "9283  0.000174  0.000174  0.000124  0.000123  0.000995\n",
            "9284  0.000227  0.000226  0.000212  0.000193  0.002587\n",
            "9285  0.000227  0.000244  0.000229  0.000228  0.002363\n",
            "9286  0.000227  0.000226  0.000229  0.000210  0.000332\n",
            "9287  0.000244  0.000244  0.000247  0.000228  0.000342\n",
            "\n",
            "[9288 rows x 5 columns]\n",
            "9288\n"
          ],
          "name": "stdout"
        }
      ]
    },
    {
      "cell_type": "code",
      "metadata": {
        "id": "G7LLk1_wbhbY",
        "colab_type": "code",
        "colab": {}
      },
      "source": [
        "train = df_scaled[:-200]\n",
        "# 전체 9288 중 80퍼\n",
        "test = df_scaled[-200:]\n",
        "# 전체 9288 중 20퍼"
      ],
      "execution_count": null,
      "outputs": []
    },
    {
      "cell_type": "code",
      "metadata": {
        "id": "s2b6h-xnbisY",
        "colab_type": "code",
        "colab": {}
      },
      "source": [
        "def make_dataset(data, label, window_size=20):\n",
        "    feature_list = []\n",
        "    label_list = []\n",
        "    for i in range(len(data) - window_size):\n",
        "        feature_list.append(np.array(data.iloc[i:i+window_size]))\n",
        "        label_list.append(np.array(label.iloc[i+window_size]))\n",
        "    return np.array(feature_list), np.array(label_list)"
      ],
      "execution_count": null,
      "outputs": []
    },
    {
      "cell_type": "code",
      "metadata": {
        "id": "D_X6pAc1bjnN",
        "colab_type": "code",
        "colab": {
          "base_uri": "https://localhost:8080/",
          "height": 71
        },
        "outputId": "658c4d66-79d1-4f69-b393-2d56becb585c"
      },
      "source": [
        "import numpy as np\n",
        "feature_cols = ['시가', '고가', '저가', '거래량']\n",
        "label_cols = ['종가']\n",
        "\n",
        "train_feature = train[feature_cols]\n",
        "train_label = train[label_cols]\n",
        "\n",
        "# train dataset\n",
        "train_feature, train_label = make_dataset(train_feature, train_label, 20)\n",
        "\n",
        "# train, validation set 생성\n",
        "from sklearn.model_selection import train_test_split\n",
        "x_train, x_valid, y_train, y_valid = train_test_split(train_feature, train_label, test_size=0.2)\n",
        "\n",
        "x_train.shape, x_valid.shape\n",
        "# ((6086, 20, 4), (1522, 20, 4))\n",
        "\n",
        "test_feature = train[feature_cols]\n",
        "test_label = train[label_cols]\n",
        "print(type(test_feature))\n",
        "print(type(test_label))\n",
        "\n",
        "# test dataset (실제 예측 해볼 데이터)\n",
        "test_feature, test_label = make_dataset(test_feature, test_label, 20)\n",
        "test_feature.shape, test_label.shape\n",
        "# ((180, 20, 4), (180, 1))"
      ],
      "execution_count": null,
      "outputs": [
        {
          "output_type": "stream",
          "text": [
            "<class 'pandas.core.frame.DataFrame'>\n",
            "<class 'pandas.core.frame.DataFrame'>\n"
          ],
          "name": "stdout"
        },
        {
          "output_type": "execute_result",
          "data": {
            "text/plain": [
              "((9068, 20, 4), (9068, 1))"
            ]
          },
          "metadata": {
            "tags": []
          },
          "execution_count": 15
        }
      ]
    },
    {
      "cell_type": "code",
      "metadata": {
        "id": "-VY0Hqv3bkqG",
        "colab_type": "code",
        "colab": {}
      },
      "source": [
        "from keras.models import Sequential\n",
        "from keras.layers import Dense\n",
        "from keras.callbacks import EarlyStopping, ModelCheckpoint\n",
        "from keras.layers import LSTM\n",
        "\n",
        "model = Sequential()\n",
        "model.add(LSTM(16, \n",
        "               input_shape=(train_feature.shape[1], train_feature.shape[2]), \n",
        "               activation='relu', \n",
        "               return_sequences=False)\n",
        "          )\n",
        "model.add(Dense(1))"
      ],
      "execution_count": null,
      "outputs": []
    },
    {
      "cell_type": "code",
      "metadata": {
        "id": "xJE-FaC2e9wk",
        "colab_type": "code",
        "colab": {
          "base_uri": "https://localhost:8080/",
          "height": 35
        },
        "outputId": "69f462fb-166a-40b1-a9b2-7ccbe768e30e"
      },
      "source": [
        "print(os.getcwd())"
      ],
      "execution_count": null,
      "outputs": [
        {
          "output_type": "stream",
          "text": [
            "/content\n"
          ],
          "name": "stdout"
        }
      ]
    },
    {
      "cell_type": "code",
      "metadata": {
        "id": "66azqn70bnsV",
        "colab_type": "code",
        "colab": {
          "base_uri": "https://localhost:8080/",
          "height": 1000
        },
        "outputId": "222e82aa-930d-4ed5-902d-5c3786ab1390"
      },
      "source": [
        "import os\n",
        "model_path=os.getcwd()\n",
        "\n",
        "model.compile(loss='mean_squared_error', optimizer='adam')\n",
        "early_stop = EarlyStopping(monitor='val_loss', patience=5)\n",
        "filename = os.path.join(model_path, 'tmp_checkpoint.h5')\n",
        "checkpoint = ModelCheckpoint(filename, monitor='val_loss', verbose=1, save_best_only=True, mode='auto')\n",
        "\n",
        "history = model.fit(x_train, y_train, \n",
        "                    epochs=200, \n",
        "                    batch_size=16,\n",
        "                    validation_data=(x_valid, y_valid), \n",
        "                    callbacks=[early_stop, checkpoint])"
      ],
      "execution_count": null,
      "outputs": [
        {
          "output_type": "stream",
          "text": [
            "Train on 7254 samples, validate on 1814 samples\n",
            "Epoch 1/200\n",
            "7254/7254 [==============================] - 4s 618us/step - loss: 0.0024 - val_loss: 6.3424e-05\n",
            "\n",
            "Epoch 00001: val_loss improved from inf to 0.00006, saving model to /content/tmp_checkpoint.h5\n",
            "Epoch 2/200\n",
            "7254/7254 [==============================] - 4s 545us/step - loss: 5.1012e-05 - val_loss: 4.9266e-05\n",
            "\n",
            "Epoch 00002: val_loss improved from 0.00006 to 0.00005, saving model to /content/tmp_checkpoint.h5\n",
            "Epoch 3/200\n",
            "7254/7254 [==============================] - 4s 559us/step - loss: 4.7921e-05 - val_loss: 4.9163e-05\n",
            "\n",
            "Epoch 00003: val_loss improved from 0.00005 to 0.00005, saving model to /content/tmp_checkpoint.h5\n",
            "Epoch 4/200\n",
            "7254/7254 [==============================] - 4s 560us/step - loss: 4.7765e-05 - val_loss: 3.9549e-05\n",
            "\n",
            "Epoch 00004: val_loss improved from 0.00005 to 0.00004, saving model to /content/tmp_checkpoint.h5\n",
            "Epoch 5/200\n",
            "7254/7254 [==============================] - 4s 547us/step - loss: 4.5571e-05 - val_loss: 7.7500e-05\n",
            "\n",
            "Epoch 00005: val_loss did not improve from 0.00004\n",
            "Epoch 6/200\n",
            "7254/7254 [==============================] - 4s 563us/step - loss: 4.8095e-05 - val_loss: 4.1626e-05\n",
            "\n",
            "Epoch 00006: val_loss did not improve from 0.00004\n",
            "Epoch 7/200\n",
            "7254/7254 [==============================] - 4s 531us/step - loss: 4.3281e-05 - val_loss: 5.7037e-05\n",
            "\n",
            "Epoch 00007: val_loss did not improve from 0.00004\n",
            "Epoch 8/200\n",
            "7254/7254 [==============================] - 4s 542us/step - loss: 3.9293e-05 - val_loss: 3.3765e-05\n",
            "\n",
            "Epoch 00008: val_loss improved from 0.00004 to 0.00003, saving model to /content/tmp_checkpoint.h5\n",
            "Epoch 9/200\n",
            "7254/7254 [==============================] - 4s 557us/step - loss: 3.6112e-05 - val_loss: 3.0585e-05\n",
            "\n",
            "Epoch 00009: val_loss improved from 0.00003 to 0.00003, saving model to /content/tmp_checkpoint.h5\n",
            "Epoch 10/200\n",
            "7254/7254 [==============================] - 4s 541us/step - loss: 3.4649e-05 - val_loss: 4.9969e-05\n",
            "\n",
            "Epoch 00010: val_loss did not improve from 0.00003\n",
            "Epoch 11/200\n",
            "7254/7254 [==============================] - 4s 540us/step - loss: 3.5346e-05 - val_loss: 3.9094e-05\n",
            "\n",
            "Epoch 00011: val_loss did not improve from 0.00003\n",
            "Epoch 12/200\n",
            "7254/7254 [==============================] - 4s 536us/step - loss: 3.1491e-05 - val_loss: 6.0398e-05\n",
            "\n",
            "Epoch 00012: val_loss did not improve from 0.00003\n",
            "Epoch 13/200\n",
            "7254/7254 [==============================] - 4s 545us/step - loss: 2.8946e-05 - val_loss: 2.5140e-05\n",
            "\n",
            "Epoch 00013: val_loss improved from 0.00003 to 0.00003, saving model to /content/tmp_checkpoint.h5\n",
            "Epoch 14/200\n",
            "7254/7254 [==============================] - 4s 554us/step - loss: 3.1350e-05 - val_loss: 2.1497e-05\n",
            "\n",
            "Epoch 00014: val_loss improved from 0.00003 to 0.00002, saving model to /content/tmp_checkpoint.h5\n",
            "Epoch 15/200\n",
            "7254/7254 [==============================] - 4s 556us/step - loss: 2.7835e-05 - val_loss: 2.1145e-05\n",
            "\n",
            "Epoch 00015: val_loss improved from 0.00002 to 0.00002, saving model to /content/tmp_checkpoint.h5\n",
            "Epoch 16/200\n",
            "7254/7254 [==============================] - 4s 527us/step - loss: 2.6302e-05 - val_loss: 2.0980e-05\n",
            "\n",
            "Epoch 00016: val_loss improved from 0.00002 to 0.00002, saving model to /content/tmp_checkpoint.h5\n",
            "Epoch 17/200\n",
            "7254/7254 [==============================] - 4s 553us/step - loss: 2.6665e-05 - val_loss: 2.0275e-05\n",
            "\n",
            "Epoch 00017: val_loss improved from 0.00002 to 0.00002, saving model to /content/tmp_checkpoint.h5\n",
            "Epoch 18/200\n",
            "7254/7254 [==============================] - 4s 574us/step - loss: 2.5353e-05 - val_loss: 3.4659e-05\n",
            "\n",
            "Epoch 00018: val_loss did not improve from 0.00002\n",
            "Epoch 19/200\n",
            "7254/7254 [==============================] - 4s 549us/step - loss: 2.4786e-05 - val_loss: 3.5650e-05\n",
            "\n",
            "Epoch 00019: val_loss did not improve from 0.00002\n",
            "Epoch 20/200\n",
            "7254/7254 [==============================] - 4s 527us/step - loss: 2.2550e-05 - val_loss: 2.1742e-05\n",
            "\n",
            "Epoch 00020: val_loss did not improve from 0.00002\n",
            "Epoch 21/200\n",
            "7254/7254 [==============================] - 4s 541us/step - loss: 2.0182e-05 - val_loss: 2.2852e-05\n",
            "\n",
            "Epoch 00021: val_loss did not improve from 0.00002\n",
            "Epoch 22/200\n",
            "7254/7254 [==============================] - 4s 548us/step - loss: 2.0727e-05 - val_loss: 2.5944e-05\n",
            "\n",
            "Epoch 00022: val_loss did not improve from 0.00002\n"
          ],
          "name": "stdout"
        }
      ]
    },
    {
      "cell_type": "code",
      "metadata": {
        "id": "oILUQxbZbpgO",
        "colab_type": "code",
        "colab": {}
      },
      "source": [
        "# weight 로딩\n",
        "model.load_weights(filename)\n",
        "\n",
        "# 예측\n",
        "pred = model.predict(test_feature)"
      ],
      "execution_count": null,
      "outputs": []
    },
    {
      "cell_type": "code",
      "metadata": {
        "id": "Wnmwq0Zuf2dX",
        "colab_type": "code",
        "colab": {
          "base_uri": "https://localhost:8080/",
          "height": 537
        },
        "outputId": "72155aa9-b01c-4077-8f19-113f81adf984"
      },
      "source": [
        "import matplotlib.pyplot as plt\n",
        "plt.figure(figsize=(12, 9))\n",
        "plt.plot(test_label, label='actual')\n",
        "plt.plot(pred, label='prediction')\n",
        "plt.legend()\n",
        "plt.show()"
      ],
      "execution_count": null,
      "outputs": [
        {
          "output_type": "display_data",
          "data": {
            "image/png": "[encoded data removed]",
            "text/plain": [
              "<Figure size 864x648 with 1 Axes>"
            ]
          },
          "metadata": {
            "tags": [],
            "needs_background": "light"
          }
        }
      ]
    },
    {
      "cell_type": "code",
      "metadata": {
        "id": "zFlcIxnMf4E6",
        "colab_type": "code",
        "colab": {}
      },
      "source": [
        ""
      ],
      "execution_count": null,
      "outputs": []
    }
  ]
}